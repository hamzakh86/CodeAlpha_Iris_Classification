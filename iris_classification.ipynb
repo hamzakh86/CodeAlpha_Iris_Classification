{
 "cells": [
  {
   "cell_type": "markdown",
   "id": "e22382e5",
   "metadata": {},
   "source": [
    "# 🌸 Iris Flower Classification - CodeAlpha Internship\n",
    "Ce notebook présente un modèle de classification des fleurs d'Iris."
   ]
  },
  {
   "cell_type": "code",
   "execution_count": null,
   "id": "2ea8cc20",
   "metadata": {},
   "outputs": [],
   "source": [
    "import pandas as pd\n",
    "import seaborn as sns\n",
    "import matplotlib.pyplot as plt\n",
    "from sklearn.datasets import load_iris\n",
    "from sklearn.model_selection import train_test_split\n",
    "from sklearn.ensemble import RandomForestClassifier\n",
    "from sklearn.metrics import accuracy_score, classification_report, confusion_matrix"
   ]
  },
  {
   "cell_type": "markdown",
   "id": "2e197979",
   "metadata": {},
   "source": [
    "## 📥 Chargement des données"
   ]
  },
  {
   "cell_type": "code",
   "execution_count": null,
   "id": "c2fab3c2",
   "metadata": {},
   "outputs": [],
   "source": [
    "iris = load_iris()\n",
    "df = pd.DataFrame(data=iris.data, columns=iris.feature_names)\n",
    "df['species'] = iris.target\n",
    "df['species'] = df['species'].map({0: 'setosa', 1: 'versicolor', 2: 'virginica'})\n",
    "df.head()"
   ]
  },
  {
   "cell_type": "markdown",
   "id": "c2328816",
   "metadata": {},
   "source": [
    "## 📊 Visualisation des données"
   ]
  },
  {
   "cell_type": "code",
   "execution_count": null,
   "id": "8731af63",
   "metadata": {},
   "outputs": [],
   "source": [
    "sns.pairplot(df, hue='species')\n",
    "plt.suptitle(\"Visualisation des espèces d'Iris\", y=1.02)\n",
    "plt.show()"
   ]
  },
  {
   "cell_type": "markdown",
   "id": "43f2b194",
   "metadata": {},
   "source": [
    "## 🔢 Séparation des données"
   ]
  },
  {
   "cell_type": "code",
   "execution_count": null,
   "id": "450436ea",
   "metadata": {},
   "outputs": [],
   "source": [
    "X = df[iris.feature_names]\n",
    "y = df['species']\n",
    "X_train, X_test, y_train, y_test = train_test_split(X, y, test_size=0.2, random_state=42)"
   ]
  },
  {
   "cell_type": "markdown",
   "id": "b30d3a1f",
   "metadata": {},
   "source": [
    "## 🧠 Entraînement du modèle"
   ]
  },
  {
   "cell_type": "code",
   "execution_count": null,
   "id": "bf6bc809",
   "metadata": {},
   "outputs": [],
   "source": [
    "model = RandomForestClassifier()\n",
    "model.fit(X_train, y_train)"
   ]
  },
  {
   "cell_type": "markdown",
   "id": "5d86f10b",
   "metadata": {},
   "source": [
    "## 🔍 Prédictions et évaluation"
   ]
  },
  {
   "cell_type": "code",
   "execution_count": null,
   "id": "850f3a61",
   "metadata": {},
   "outputs": [],
   "source": [
    "y_pred = model.predict(X_test)\n",
    "print(\"Accuracy:\", accuracy_score(y_test, y_pred))\n",
    "print(\"\\nClassification Report:\\n\", classification_report(y_test, y_pred))\n",
    "print(\"\\nMatrice de confusion:\\n\", confusion_matrix(y_test, y_pred))"
   ]
  }
 ],
 "metadata": {},
 "nbformat": 4,
 "nbformat_minor": 5
}
